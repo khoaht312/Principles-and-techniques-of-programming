{
  "nbformat": 4,
  "nbformat_minor": 0,
  "metadata": {
    "colab": {
      "name": "CS111.BT.SAPBAI.ipynb",
      "provenance": [],
      "collapsed_sections": [],
      "authorship_tag": "ABX9TyNowiOLMUYGRiqn+RaVJH08",
      "include_colab_link": true
    },
    "kernelspec": {
      "name": "python3",
      "display_name": "Python 3"
    },
    "language_info": {
      "name": "python"
    }
  },
  "cells": [
    {
      "cell_type": "markdown",
      "metadata": {
        "id": "view-in-github",
        "colab_type": "text"
      },
      "source": [
        "<a href=\"https://colab.research.google.com/github/icebearian/CS111-Principles-and-techniques-of-programming/blob/main/TH/CS111_BT_SAPBAI.ipynb\" target=\"_parent\"><img src=\"https://colab.research.google.com/assets/colab-badge.svg\" alt=\"Open In Colab\"/></a>"
      ]
    },
    {
      "cell_type": "markdown",
      "metadata": {
        "id": "MwdV6l1kcfJS"
      },
      "source": [
        "**Đề bài**:\n",
        "Adam và Eva chơi trò chơi sắp bài với bộ bài 52 quân phổ biến. Quy tắc chơi như sau: Mỗi người lấy N quân, ngồi đối diện với nhau và sắp bài của mình thành một hàng ngang, các quân bài của Adam đánh số từ 1 đến n từ trái sang phải. Như vậy, quân bài thứ i của Adam đối diện với quân bài thứ i của Eva. Tất cả các quân bài đều up. Hai người lần lượt mở bài. Quân của ai cao hơn thì sẽ được 1 điểm. Người nào nhận được nhiều điểm sẽ thắng.<br>\n",
        "Quy tắc xác định quân thắng:<br>\n",
        "- Quân có số cao hơn sẽ thắng: 2,3,4,5,6,7,8,9,T,J,Q,K,A\n",
        "- Nếu bằng số thì xét đến chất: C (cơ) thắng B (Bích) thắng R (rô) thắng N (nhép).<br>\n",
        "\n",
        "Xét trường hợp Eva biết trước các quân bài của Adam, hãy tìm cách bố trí quân bài để Eva thắng nhiều điểm nhất.\n",
        "\n",
        "**INPUT**: Dòng thứ 1 chứa số lượng test <br>\n",
        "- Mỗi test có 3 dòng:\n",
        "  - Dòng đầu tiên chứa số nguyên N (N <= 20000)\n",
        "  - N dòng tiếp theo, mỗi dòng chứa xâu 2 ký tự mô tả quân bài của Adam\n",
        "  - N dòng tiếp theo, mỗi dòng chứa xâu 2 ký tự mô tả quân bài của Eva\n",
        "\n",
        "**OUTPUT**: \n",
        "- Một số nguyên dương là số điểm của Eva."
      ]
    },
    {
      "cell_type": "code",
      "metadata": {
        "colab": {
          "base_uri": "https://localhost:8080/"
        },
        "id": "nhfMnGrFfVRw",
        "outputId": "2d072437-d263-41f7-d5a0-49e89f77ed69"
      },
      "source": [
        "\"\"\"\n",
        "Ý tưởng:\n",
        "+ Giả sử cho mảng A (Adam), mảng B (Eva).\n",
        "+ Sắp xếp giảm dần giá trị của 2 mảng.\n",
        "+ So sánh 2 phần tử của mảng theo thứ tự:\n",
        "  + Nếu giá trị mảng B lớn hơn mảng A thì kết quả tăng lên 1.\n",
        "  + Ngược lại: hoán vị giá trị mảng B với giá trị nhỏ nhất của mảng B rồi tiếp tục so sánh.\n",
        "\"\"\"\n",
        "chat_dic = {'C':'4','B':'3','R':'2','N':'1'}\n",
        "score_dic = {'A':'14','K':'13','Q':'12','J':'11','T':'10','9':'9','8':'8','7':'7','6':'6','5':'5','4':'4','3':'3','2':'2','1':'1'}\n",
        "\n",
        "def convert(x): #Hàm chuyển đổi chuỗi thành số\n",
        "  return int(''.join([score_dic[x[0]],chat_dic[x[1]]]))\n",
        "  \n",
        "def solve(C,D):\n",
        "  tmp = 0\n",
        "  for i in range(x):\n",
        "    if D[i] > C[i]:\n",
        "      tmp = tmp + 1\n",
        "    else:\n",
        "      D[i],D[-1] = D[-1],D[i]\n",
        "      if D[i] > C[i]:\n",
        "        tmp = tmp + 1\n",
        "  print(tmp) \n",
        "\n",
        "n = int(input()) #Số lượng test case\n",
        "while n > 0:\n",
        "  A,B = [],[] # Khởi tạo mảng nhập cho quân bài Adam, Eva.\n",
        "  C,D = [], [] # Mảng lưu giá trị được thay đổi từ chuỗi sang số để tính toán.\n",
        "  x = int(input()) #Số lượng phần tử mỗi mảng.\n",
        "  for i in range(x*2):\n",
        "    if i < x:\n",
        "      A.append(input())\n",
        "    else:\n",
        "      B.append(input())\n",
        "  for i in range(x):\n",
        "    C.append(convert(A[i])) \n",
        "    D.append(convert(B[i]))\n",
        "  C.sort(reverse=True)\n",
        "  D.sort(reverse=True)\n",
        "  #print(C,D)\n",
        "  solve(C,D)\n",
        "  n -= 1"
      ],
      "execution_count": null,
      "outputs": [
        {
          "output_type": "stream",
          "text": [
            "3\n",
            "1\n",
            "JR\n",
            "JC\n",
            "1\n",
            "2\n",
            "5R\n",
            "TN\n",
            "4C\n",
            "5C\n",
            "1\n",
            "3\n",
            "2C\n",
            "3C\n",
            "4C\n",
            "2R\n",
            "3R\n",
            "4R\n",
            "2\n"
          ],
          "name": "stdout"
        }
      ]
    }
  ]
}
